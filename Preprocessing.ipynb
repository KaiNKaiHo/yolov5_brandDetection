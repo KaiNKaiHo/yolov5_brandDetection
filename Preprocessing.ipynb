{
 "cells": [
  {
   "cell_type": "code",
   "execution_count": 20,
   "id": "7b3acb3b",
   "metadata": {},
   "outputs": [],
   "source": [
    "import pandas as pd\n",
    "import os\n",
    "import shutil\n",
    "from PIL import Image"
   ]
  },
  {
   "cell_type": "code",
   "execution_count": 21,
   "id": "27aab356",
   "metadata": {},
   "outputs": [],
   "source": [
    "read_file = pd.read_csv(\"flickr_logos_27_dataset/flickr_logos_27_dataset_training_set_annotation.txt\", sep='\\s+',header=None)\n",
    "\n",
    "read_file = read_file.drop_duplicates(subset=[0, 1, 3, 4, 5, 6], keep='first')\n",
    "\n",
    "datadir = \"flickr_logos_27_dataset/flickr_logos_27_dataset_images\"\n",
    "name_id = {\n",
    "    'Ferrari': 0,\n",
    "    'Ford': 1,\n",
    "    'Nbc': 2,\n",
    "    'Starbucks': 3,\n",
    "    'RedBull': 4,\n",
    "    'Mini': 5,\n",
    "    'Unicef': 6,\n",
    "    'Yahoo': 7,\n",
    "    'Sprite': 8,\n",
    "    'Texaco': 9,\n",
    "    'Intel': 10,\n",
    "    'Cocacola': 11,\n",
    "    'Citroen': 12,\n",
    "    'Heineken': 13,\n",
    "    'Apple': 14,\n",
    "    'Google': 15,\n",
    "    'Fedex': 16,\n",
    "    'Pepsi': 17,\n",
    "    'Puma': 18,\n",
    "    'DHL': 19,\n",
    "    'Porsche': 20,\n",
    "    'Nike': 21,\n",
    "    'Vodafone': 22,\n",
    "    'BMW': 23,\n",
    "    'McDonalds': 24,\n",
    "    'HP': 25,\n",
    "    'Adidas': 26\n",
    "}"
   ]
  },
  {
   "cell_type": "code",
   "execution_count": 22,
   "id": "169d830d",
   "metadata": {},
   "outputs": [],
   "source": [
    "def class_id(name : str, name_id : object):\n",
    "    return name_id[name]"
   ]
  },
  {
   "cell_type": "code",
   "execution_count": 23,
   "id": "6a225a1b",
   "metadata": {},
   "outputs": [],
   "source": [
    "def parameters(x_max : float, y_max : float, x_min : float, y_min : float):\n",
    "    x_center = (x_max + x_min) / 2 \n",
    "    y_center = (y_max + y_min) / 2\n",
    "    width = x_max - x_min\n",
    "    height = y_max - y_min\n",
    "    return (x_center, y_center, width, height)"
   ]
  },
  {
   "cell_type": "code",
   "execution_count": 24,
   "id": "2bae1c20",
   "metadata": {},
   "outputs": [],
   "source": [
    "def create_label(read_file): \n",
    "    grouped_read_file = read_file.groupby(0)\n",
    "    for group in grouped_read_file:\n",
    "        filename = group[0] \n",
    "        file_name, file_ext = os.path.splitext(filename)\n",
    "        file_name_txt = os.path.basename(file_name) + \".txt\"\n",
    "        image_path = os.path.join(datadir, filename)\n",
    "        image = Image.open(image_path)\n",
    "        width, height = image.size\n",
    "        with open(\"labels/train/\" + file_name_txt,'w') as f: \n",
    "            for i in range(len(group[1])):\n",
    "                brand_id = class_id(group[1].iloc[i, 1], name_id)\n",
    "                x_min = group[1].iloc[i, 3]\n",
    "                y_min = group[1].iloc[i, 4]\n",
    "                x_max = group[1].iloc[i, 5]\n",
    "                y_max = group[1].iloc[i, 6]\n",
    "                center_x , center_y , obj_width, obj_height = parameters(x_max, y_max, x_min, y_min)\n",
    "                center_x = center_x/width\n",
    "                center_y = center_y/height\n",
    "                obj_width = obj_width/width\n",
    "                obj_height = obj_height/height\n",
    "                f.write(f\"{brand_id} {center_x} {center_y} {obj_width} {obj_height}\\n\")"
   ]
  },
  {
   "cell_type": "code",
   "execution_count": 25,
   "id": "f31225b6",
   "metadata": {},
   "outputs": [],
   "source": [
    "create_label(read_file)"
   ]
  }
 ],
 "metadata": {
  "kernelspec": {
   "display_name": "Python 3 (ipykernel)",
   "language": "python",
   "name": "python3"
  },
  "language_info": {
   "codemirror_mode": {
    "name": "ipython",
    "version": 3
   },
   "file_extension": ".py",
   "mimetype": "text/x-python",
   "name": "python",
   "nbconvert_exporter": "python",
   "pygments_lexer": "ipython3",
   "version": "3.10.9"
  }
 },
 "nbformat": 4,
 "nbformat_minor": 5
}
