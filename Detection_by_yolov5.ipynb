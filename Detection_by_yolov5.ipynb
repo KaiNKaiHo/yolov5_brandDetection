{
 "cells": [
  {
   "cell_type": "code",
   "execution_count": 1,
   "id": "68461bce",
   "metadata": {},
   "outputs": [],
   "source": [
    "import yolov5\n",
    "from yolov5 import detect"
   ]
  },
  {
   "cell_type": "code",
   "execution_count": null,
   "id": "dfbb2d93",
   "metadata": {},
   "outputs": [],
   "source": [
    "detect.run('best.pt', source = 'test/images')"
   ]
  }
 ],
 "metadata": {
  "kernelspec": {
   "display_name": "Python 3 (ipykernel)",
   "language": "python",
   "name": "python3"
  },
  "language_info": {
   "codemirror_mode": {
    "name": "ipython",
    "version": 3
   },
   "file_extension": ".py",
   "mimetype": "text/x-python",
   "name": "python",
   "nbconvert_exporter": "python",
   "pygments_lexer": "ipython3",
   "version": "3.10.9"
  }
 },
 "nbformat": 4,
 "nbformat_minor": 5
}
