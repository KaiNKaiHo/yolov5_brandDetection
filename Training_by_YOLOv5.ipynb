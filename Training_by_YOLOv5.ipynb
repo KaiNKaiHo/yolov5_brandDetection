{
 "cells": [
  {
   "cell_type": "code",
   "execution_count": null,
   "id": "62821f2f",
   "metadata": {},
   "outputs": [],
   "source": [
    "import yolov5\n",
    "from yolov5 import train \n",
    "\n",
    "# Path to data.yaml\n",
    "data_yaml_path = 'data.yaml'\n",
    "\n",
    "# Train by yolov5 model\n",
    "train.run(data=data_yaml_path, imgsz=640, epochs=5, weight='yolov5s.pt')"
   ]
  }
 ],
 "metadata": {
  "kernelspec": {
   "display_name": "Python 3 (ipykernel)",
   "language": "python",
   "name": "python3"
  },
  "language_info": {
   "codemirror_mode": {
    "name": "ipython",
    "version": 3
   },
   "file_extension": ".py",
   "mimetype": "text/x-python",
   "name": "python",
   "nbconvert_exporter": "python",
   "pygments_lexer": "ipython3",
   "version": "3.10.9"
  }
 },
 "nbformat": 4,
 "nbformat_minor": 5
}
